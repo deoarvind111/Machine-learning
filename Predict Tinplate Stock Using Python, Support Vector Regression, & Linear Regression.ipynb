{
 "cells": [
  {
   "cell_type": "code",
   "execution_count": 1,
   "metadata": {},
   "outputs": [],
   "source": [
    "import pandas as pd\n",
    "import numpy as np\n",
    "from sklearn.svm import SVR\n",
    "from sklearn.linear_model import LinearRegression\n",
    "import matplotlib.pyplot as plt"
   ]
  },
  {
   "cell_type": "code",
   "execution_count": 2,
   "metadata": {
    "scrolled": false
   },
   "outputs": [
    {
     "data": {
      "text/html": [
       "<div>\n",
       "<style scoped>\n",
       "    .dataframe tbody tr th:only-of-type {\n",
       "        vertical-align: middle;\n",
       "    }\n",
       "\n",
       "    .dataframe tbody tr th {\n",
       "        vertical-align: top;\n",
       "    }\n",
       "\n",
       "    .dataframe thead th {\n",
       "        text-align: right;\n",
       "    }\n",
       "</style>\n",
       "<table border=\"1\" class=\"dataframe\">\n",
       "  <thead>\n",
       "    <tr style=\"text-align: right;\">\n",
       "      <th></th>\n",
       "      <th>Date</th>\n",
       "      <th>Open</th>\n",
       "      <th>High</th>\n",
       "      <th>Low</th>\n",
       "      <th>Close</th>\n",
       "      <th>Adj Close</th>\n",
       "      <th>Volume</th>\n",
       "    </tr>\n",
       "  </thead>\n",
       "  <tbody>\n",
       "    <tr>\n",
       "      <th>0</th>\n",
       "      <td>2020-01-21</td>\n",
       "      <td>151.000000</td>\n",
       "      <td>157.399994</td>\n",
       "      <td>151.000000</td>\n",
       "      <td>155.750000</td>\n",
       "      <td>155.750000</td>\n",
       "      <td>541982</td>\n",
       "    </tr>\n",
       "    <tr>\n",
       "      <th>1</th>\n",
       "      <td>2020-01-22</td>\n",
       "      <td>156.949997</td>\n",
       "      <td>157.899994</td>\n",
       "      <td>152.699997</td>\n",
       "      <td>153.649994</td>\n",
       "      <td>153.649994</td>\n",
       "      <td>332591</td>\n",
       "    </tr>\n",
       "    <tr>\n",
       "      <th>2</th>\n",
       "      <td>2020-01-23</td>\n",
       "      <td>153.899994</td>\n",
       "      <td>155.800003</td>\n",
       "      <td>153.000000</td>\n",
       "      <td>153.750000</td>\n",
       "      <td>153.750000</td>\n",
       "      <td>234407</td>\n",
       "    </tr>\n",
       "    <tr>\n",
       "      <th>3</th>\n",
       "      <td>2020-01-24</td>\n",
       "      <td>154.750000</td>\n",
       "      <td>156.250000</td>\n",
       "      <td>152.500000</td>\n",
       "      <td>153.050003</td>\n",
       "      <td>153.050003</td>\n",
       "      <td>316960</td>\n",
       "    </tr>\n",
       "    <tr>\n",
       "      <th>4</th>\n",
       "      <td>2020-01-27</td>\n",
       "      <td>152.000000</td>\n",
       "      <td>152.850006</td>\n",
       "      <td>150.100006</td>\n",
       "      <td>150.300003</td>\n",
       "      <td>150.300003</td>\n",
       "      <td>228269</td>\n",
       "    </tr>\n",
       "  </tbody>\n",
       "</table>\n",
       "</div>"
      ],
      "text/plain": [
       "         Date        Open        High         Low       Close   Adj Close  \\\n",
       "0  2020-01-21  151.000000  157.399994  151.000000  155.750000  155.750000   \n",
       "1  2020-01-22  156.949997  157.899994  152.699997  153.649994  153.649994   \n",
       "2  2020-01-23  153.899994  155.800003  153.000000  153.750000  153.750000   \n",
       "3  2020-01-24  154.750000  156.250000  152.500000  153.050003  153.050003   \n",
       "4  2020-01-27  152.000000  152.850006  150.100006  150.300003  150.300003   \n",
       "\n",
       "   Volume  \n",
       "0  541982  \n",
       "1  332591  \n",
       "2  234407  \n",
       "3  316960  \n",
       "4  228269  "
      ]
     },
     "execution_count": 2,
     "metadata": {},
     "output_type": "execute_result"
    }
   ],
   "source": [
    "\n",
    "df =pd.read_csv('TINPLATE.NS.csv')\n",
    "df.head()"
   ]
  },
  {
   "cell_type": "code",
   "execution_count": 3,
   "metadata": {},
   "outputs": [],
   "source": [
    "# Create the list / X and Y data sets\n",
    "dates = []\n",
    "prices = []"
   ]
  },
  {
   "cell_type": "code",
   "execution_count": 4,
   "metadata": {},
   "outputs": [
    {
     "data": {
      "text/plain": [
       "(22, 7)"
      ]
     },
     "execution_count": 4,
     "metadata": {},
     "output_type": "execute_result"
    }
   ],
   "source": [
    "# Get the number of rows and columns in the data set\n",
    "df.shape"
   ]
  },
  {
   "cell_type": "code",
   "execution_count": 5,
   "metadata": {},
   "outputs": [
    {
     "data": {
      "text/html": [
       "<div>\n",
       "<style scoped>\n",
       "    .dataframe tbody tr th:only-of-type {\n",
       "        vertical-align: middle;\n",
       "    }\n",
       "\n",
       "    .dataframe tbody tr th {\n",
       "        vertical-align: top;\n",
       "    }\n",
       "\n",
       "    .dataframe thead th {\n",
       "        text-align: right;\n",
       "    }\n",
       "</style>\n",
       "<table border=\"1\" class=\"dataframe\">\n",
       "  <thead>\n",
       "    <tr style=\"text-align: right;\">\n",
       "      <th></th>\n",
       "      <th>Date</th>\n",
       "      <th>Open</th>\n",
       "      <th>High</th>\n",
       "      <th>Low</th>\n",
       "      <th>Close</th>\n",
       "      <th>Adj Close</th>\n",
       "      <th>Volume</th>\n",
       "    </tr>\n",
       "  </thead>\n",
       "  <tbody>\n",
       "    <tr>\n",
       "      <th>21</th>\n",
       "      <td>2020-02-19</td>\n",
       "      <td>134.800003</td>\n",
       "      <td>143.399994</td>\n",
       "      <td>134.100006</td>\n",
       "      <td>139.25</td>\n",
       "      <td>139.25</td>\n",
       "      <td>608585</td>\n",
       "    </tr>\n",
       "  </tbody>\n",
       "</table>\n",
       "</div>"
      ],
      "text/plain": [
       "          Date        Open        High         Low   Close  Adj Close  Volume\n",
       "21  2020-02-19  134.800003  143.399994  134.100006  139.25     139.25  608585"
      ]
     },
     "execution_count": 5,
     "metadata": {},
     "output_type": "execute_result"
    }
   ],
   "source": [
    "# Get the last row of the data (This will be the data that we test on)\n",
    "df.tail(1)"
   ]
  },
  {
   "cell_type": "code",
   "execution_count": 6,
   "metadata": {},
   "outputs": [
    {
     "data": {
      "text/html": [
       "<div>\n",
       "<style scoped>\n",
       "    .dataframe tbody tr th:only-of-type {\n",
       "        vertical-align: middle;\n",
       "    }\n",
       "\n",
       "    .dataframe tbody tr th {\n",
       "        vertical-align: top;\n",
       "    }\n",
       "\n",
       "    .dataframe thead th {\n",
       "        text-align: right;\n",
       "    }\n",
       "</style>\n",
       "<table border=\"1\" class=\"dataframe\">\n",
       "  <thead>\n",
       "    <tr style=\"text-align: right;\">\n",
       "      <th></th>\n",
       "      <th>Date</th>\n",
       "      <th>Open</th>\n",
       "      <th>High</th>\n",
       "      <th>Low</th>\n",
       "      <th>Close</th>\n",
       "      <th>Adj Close</th>\n",
       "      <th>Volume</th>\n",
       "    </tr>\n",
       "  </thead>\n",
       "  <tbody>\n",
       "    <tr>\n",
       "      <th>0</th>\n",
       "      <td>2020-01-21</td>\n",
       "      <td>151.000000</td>\n",
       "      <td>157.399994</td>\n",
       "      <td>151.000000</td>\n",
       "      <td>155.750000</td>\n",
       "      <td>155.750000</td>\n",
       "      <td>541982</td>\n",
       "    </tr>\n",
       "    <tr>\n",
       "      <th>1</th>\n",
       "      <td>2020-01-22</td>\n",
       "      <td>156.949997</td>\n",
       "      <td>157.899994</td>\n",
       "      <td>152.699997</td>\n",
       "      <td>153.649994</td>\n",
       "      <td>153.649994</td>\n",
       "      <td>332591</td>\n",
       "    </tr>\n",
       "    <tr>\n",
       "      <th>2</th>\n",
       "      <td>2020-01-23</td>\n",
       "      <td>153.899994</td>\n",
       "      <td>155.800003</td>\n",
       "      <td>153.000000</td>\n",
       "      <td>153.750000</td>\n",
       "      <td>153.750000</td>\n",
       "      <td>234407</td>\n",
       "    </tr>\n",
       "    <tr>\n",
       "      <th>3</th>\n",
       "      <td>2020-01-24</td>\n",
       "      <td>154.750000</td>\n",
       "      <td>156.250000</td>\n",
       "      <td>152.500000</td>\n",
       "      <td>153.050003</td>\n",
       "      <td>153.050003</td>\n",
       "      <td>316960</td>\n",
       "    </tr>\n",
       "    <tr>\n",
       "      <th>4</th>\n",
       "      <td>2020-01-27</td>\n",
       "      <td>152.000000</td>\n",
       "      <td>152.850006</td>\n",
       "      <td>150.100006</td>\n",
       "      <td>150.300003</td>\n",
       "      <td>150.300003</td>\n",
       "      <td>228269</td>\n",
       "    </tr>\n",
       "    <tr>\n",
       "      <th>5</th>\n",
       "      <td>2020-01-28</td>\n",
       "      <td>150.149994</td>\n",
       "      <td>152.000000</td>\n",
       "      <td>145.750000</td>\n",
       "      <td>146.300003</td>\n",
       "      <td>146.300003</td>\n",
       "      <td>321738</td>\n",
       "    </tr>\n",
       "    <tr>\n",
       "      <th>6</th>\n",
       "      <td>2020-01-29</td>\n",
       "      <td>147.250000</td>\n",
       "      <td>149.850006</td>\n",
       "      <td>146.550003</td>\n",
       "      <td>147.000000</td>\n",
       "      <td>147.000000</td>\n",
       "      <td>297889</td>\n",
       "    </tr>\n",
       "    <tr>\n",
       "      <th>7</th>\n",
       "      <td>2020-01-30</td>\n",
       "      <td>149.800003</td>\n",
       "      <td>150.000000</td>\n",
       "      <td>145.250000</td>\n",
       "      <td>146.750000</td>\n",
       "      <td>146.750000</td>\n",
       "      <td>331942</td>\n",
       "    </tr>\n",
       "    <tr>\n",
       "      <th>8</th>\n",
       "      <td>2020-01-31</td>\n",
       "      <td>146.500000</td>\n",
       "      <td>148.100006</td>\n",
       "      <td>142.250000</td>\n",
       "      <td>142.750000</td>\n",
       "      <td>142.750000</td>\n",
       "      <td>158882</td>\n",
       "    </tr>\n",
       "    <tr>\n",
       "      <th>9</th>\n",
       "      <td>2020-02-03</td>\n",
       "      <td>135.000000</td>\n",
       "      <td>136.800003</td>\n",
       "      <td>132.149994</td>\n",
       "      <td>132.899994</td>\n",
       "      <td>132.899994</td>\n",
       "      <td>204801</td>\n",
       "    </tr>\n",
       "    <tr>\n",
       "      <th>10</th>\n",
       "      <td>2020-02-04</td>\n",
       "      <td>133.500000</td>\n",
       "      <td>137.399994</td>\n",
       "      <td>133.500000</td>\n",
       "      <td>136.250000</td>\n",
       "      <td>136.250000</td>\n",
       "      <td>221696</td>\n",
       "    </tr>\n",
       "    <tr>\n",
       "      <th>11</th>\n",
       "      <td>2020-02-05</td>\n",
       "      <td>137.000000</td>\n",
       "      <td>143.699997</td>\n",
       "      <td>136.100006</td>\n",
       "      <td>142.750000</td>\n",
       "      <td>142.750000</td>\n",
       "      <td>455590</td>\n",
       "    </tr>\n",
       "    <tr>\n",
       "      <th>12</th>\n",
       "      <td>2020-02-06</td>\n",
       "      <td>143.699997</td>\n",
       "      <td>145.199997</td>\n",
       "      <td>140.850006</td>\n",
       "      <td>141.350006</td>\n",
       "      <td>141.350006</td>\n",
       "      <td>308613</td>\n",
       "    </tr>\n",
       "    <tr>\n",
       "      <th>13</th>\n",
       "      <td>2020-02-07</td>\n",
       "      <td>141.000000</td>\n",
       "      <td>143.199997</td>\n",
       "      <td>140.100006</td>\n",
       "      <td>141.300003</td>\n",
       "      <td>141.300003</td>\n",
       "      <td>163566</td>\n",
       "    </tr>\n",
       "    <tr>\n",
       "      <th>14</th>\n",
       "      <td>2020-02-10</td>\n",
       "      <td>140.800003</td>\n",
       "      <td>140.850006</td>\n",
       "      <td>137.000000</td>\n",
       "      <td>137.750000</td>\n",
       "      <td>137.750000</td>\n",
       "      <td>190439</td>\n",
       "    </tr>\n",
       "    <tr>\n",
       "      <th>15</th>\n",
       "      <td>2020-02-11</td>\n",
       "      <td>138.649994</td>\n",
       "      <td>149.500000</td>\n",
       "      <td>137.550003</td>\n",
       "      <td>144.199997</td>\n",
       "      <td>144.199997</td>\n",
       "      <td>939240</td>\n",
       "    </tr>\n",
       "    <tr>\n",
       "      <th>16</th>\n",
       "      <td>2020-02-12</td>\n",
       "      <td>144.899994</td>\n",
       "      <td>144.899994</td>\n",
       "      <td>140.399994</td>\n",
       "      <td>141.050003</td>\n",
       "      <td>141.050003</td>\n",
       "      <td>185155</td>\n",
       "    </tr>\n",
       "    <tr>\n",
       "      <th>17</th>\n",
       "      <td>2020-02-13</td>\n",
       "      <td>140.899994</td>\n",
       "      <td>142.850006</td>\n",
       "      <td>138.800003</td>\n",
       "      <td>139.649994</td>\n",
       "      <td>139.649994</td>\n",
       "      <td>119883</td>\n",
       "    </tr>\n",
       "    <tr>\n",
       "      <th>18</th>\n",
       "      <td>2020-02-14</td>\n",
       "      <td>139.000000</td>\n",
       "      <td>143.750000</td>\n",
       "      <td>138.100006</td>\n",
       "      <td>139.350006</td>\n",
       "      <td>139.350006</td>\n",
       "      <td>187938</td>\n",
       "    </tr>\n",
       "    <tr>\n",
       "      <th>19</th>\n",
       "      <td>2020-02-17</td>\n",
       "      <td>138.500000</td>\n",
       "      <td>140.649994</td>\n",
       "      <td>135.649994</td>\n",
       "      <td>137.399994</td>\n",
       "      <td>137.399994</td>\n",
       "      <td>226182</td>\n",
       "    </tr>\n",
       "    <tr>\n",
       "      <th>20</th>\n",
       "      <td>2020-02-18</td>\n",
       "      <td>136.100006</td>\n",
       "      <td>136.899994</td>\n",
       "      <td>132.500000</td>\n",
       "      <td>133.649994</td>\n",
       "      <td>133.649994</td>\n",
       "      <td>243175</td>\n",
       "    </tr>\n",
       "  </tbody>\n",
       "</table>\n",
       "</div>"
      ],
      "text/plain": [
       "          Date        Open        High         Low       Close   Adj Close  \\\n",
       "0   2020-01-21  151.000000  157.399994  151.000000  155.750000  155.750000   \n",
       "1   2020-01-22  156.949997  157.899994  152.699997  153.649994  153.649994   \n",
       "2   2020-01-23  153.899994  155.800003  153.000000  153.750000  153.750000   \n",
       "3   2020-01-24  154.750000  156.250000  152.500000  153.050003  153.050003   \n",
       "4   2020-01-27  152.000000  152.850006  150.100006  150.300003  150.300003   \n",
       "5   2020-01-28  150.149994  152.000000  145.750000  146.300003  146.300003   \n",
       "6   2020-01-29  147.250000  149.850006  146.550003  147.000000  147.000000   \n",
       "7   2020-01-30  149.800003  150.000000  145.250000  146.750000  146.750000   \n",
       "8   2020-01-31  146.500000  148.100006  142.250000  142.750000  142.750000   \n",
       "9   2020-02-03  135.000000  136.800003  132.149994  132.899994  132.899994   \n",
       "10  2020-02-04  133.500000  137.399994  133.500000  136.250000  136.250000   \n",
       "11  2020-02-05  137.000000  143.699997  136.100006  142.750000  142.750000   \n",
       "12  2020-02-06  143.699997  145.199997  140.850006  141.350006  141.350006   \n",
       "13  2020-02-07  141.000000  143.199997  140.100006  141.300003  141.300003   \n",
       "14  2020-02-10  140.800003  140.850006  137.000000  137.750000  137.750000   \n",
       "15  2020-02-11  138.649994  149.500000  137.550003  144.199997  144.199997   \n",
       "16  2020-02-12  144.899994  144.899994  140.399994  141.050003  141.050003   \n",
       "17  2020-02-13  140.899994  142.850006  138.800003  139.649994  139.649994   \n",
       "18  2020-02-14  139.000000  143.750000  138.100006  139.350006  139.350006   \n",
       "19  2020-02-17  138.500000  140.649994  135.649994  137.399994  137.399994   \n",
       "20  2020-02-18  136.100006  136.899994  132.500000  133.649994  133.649994   \n",
       "\n",
       "    Volume  \n",
       "0   541982  \n",
       "1   332591  \n",
       "2   234407  \n",
       "3   316960  \n",
       "4   228269  \n",
       "5   321738  \n",
       "6   297889  \n",
       "7   331942  \n",
       "8   158882  \n",
       "9   204801  \n",
       "10  221696  \n",
       "11  455590  \n",
       "12  308613  \n",
       "13  163566  \n",
       "14  190439  \n",
       "15  939240  \n",
       "16  185155  \n",
       "17  119883  \n",
       "18  187938  \n",
       "19  226182  \n",
       "20  243175  "
      ]
     },
     "execution_count": 6,
     "metadata": {},
     "output_type": "execute_result"
    }
   ],
   "source": [
    "# Get all of the data except for the last rows\n",
    "df = df.head(len(df)-1)\n",
    "df"
   ]
  },
  {
   "cell_type": "code",
   "execution_count": 7,
   "metadata": {
    "scrolled": true
   },
   "outputs": [
    {
     "data": {
      "text/plain": [
       "(21, 7)"
      ]
     },
     "execution_count": 7,
     "metadata": {},
     "output_type": "execute_result"
    }
   ],
   "source": [
    "# The new shape of the data\n",
    "df.shape"
   ]
  },
  {
   "cell_type": "code",
   "execution_count": 8,
   "metadata": {},
   "outputs": [],
   "source": [
    "# Get all of the rows from the Date column\n",
    "df_dates = df.loc[:, 'Date']\n",
    "\n",
    "# Get all of the rows from the open column\n",
    "df_open =df.loc[:,'Open']"
   ]
  },
  {
   "cell_type": "code",
   "execution_count": 9,
   "metadata": {},
   "outputs": [],
   "source": [
    "# Create thr independent data set X\n",
    "for date in df_dates:\n",
    "    dates.append([int(date.split('-')[2])])\n",
    "    \n",
    "# Create thr dependent data set Y\n",
    "for open_price in df_open:\n",
    "    prices.append(float(open_price))"
   ]
  },
  {
   "cell_type": "code",
   "execution_count": 10,
   "metadata": {
    "scrolled": true
   },
   "outputs": [
    {
     "name": "stdout",
     "output_type": "stream",
     "text": [
      "[[21], [22], [23], [24], [27], [28], [29], [30], [31], [3], [4], [5], [6], [7], [10], [11], [12], [13], [14], [17], [18]]\n"
     ]
    }
   ],
   "source": [
    "# See what days were recorded\n",
    "print(dates)"
   ]
  },
  {
   "cell_type": "code",
   "execution_count": 11,
   "metadata": {},
   "outputs": [],
   "source": [
    "def predict_prices(dates,prices,x):\n",
    "    \n",
    "    #Create the 3 Support Vector Regression models\n",
    "    svr_lin =SVR(kernel='linear',C=1e3)\n",
    "    svr_poly =SVR(kernel='poly',C=1e3, degree=2)\n",
    "    svr_rbf =SVR(kernel='rbf',C=1e3,gamma =0.1)\n",
    "    \n",
    "    # Train the SVR models\n",
    "    svr_lin.fit(dates,prices)\n",
    "    svr_poly.fit(dates,prices)\n",
    "    svr_rbf.fit(dates,prices)\n",
    "    \n",
    "    # Create the linear Regression models\n",
    "    lin_reg =LinearRegression()\n",
    "    \n",
    "    # Train the Linear Regression models\n",
    "    lin_reg.fit(dates,prices)\n",
    "    \n",
    "    # plot the models on a graph to see which has the best fit\n",
    "    plt.scatter(dates,prices,color ='black',label='Data')\n",
    "    plt.plot(dates,svr_rbf.predict(dates),color ='red',label= 'SVR RBF')\n",
    "    plt.plot(dates,svr_poly.predict(dates),color ='blue',label= 'SVR POLY')\n",
    "    plt.plot(dates,svr_lin.predict(dates),color ='orange',label= 'SVR LINEAR')\n",
    "    plt.plot(dates,lin_reg.predict(dates),color ='green',label= 'LINEAR REGRESSION')\n",
    "    plt.xlabel('Days')\n",
    "    plt.ylabel('Price')\n",
    "    plt.title('Regression')\n",
    "    plt.legend()\n",
    "    plt.show()\n",
    "    \n",
    "    return svr_rbf.predict(x)[0],svr_lin.predict(x)[0],svr_poly.predict(x)[0],lin_reg.predict(x)[0]\n"
   ]
  },
  {
   "cell_type": "code",
   "execution_count": 14,
   "metadata": {
    "scrolled": true
   },
   "outputs": [
    {
     "name": "stderr",
     "output_type": "stream",
     "text": [
      "C:\\ProgramData\\Anaconda3\\lib\\site-packages\\sklearn\\svm\\base.py:193: FutureWarning: The default value of gamma will change from 'auto' to 'scale' in version 0.22 to account better for unscaled features. Set gamma explicitly to 'auto' or 'scale' to avoid this warning.\n",
      "  \"avoid this warning.\", FutureWarning)\n"
     ]
    },
    {
     "data": {
      "image/png": "[encoded data removed]",
      "text/plain": [
       "<Figure size 432x288 with 1 Axes>"
      ]
     },
     "metadata": {
      "needs_background": "light"
     },
     "output_type": "display_data"
    },
    {
     "name": "stdout",
     "output_type": "stream",
     "text": [
      "(135.45099922509752, 144.90434417369067, 143.6877987546858, 145.535789034128)\n"
     ]
    }
   ],
   "source": [
    "# predict the price  of Tinplate on day 19\n",
    "predicted_price =predict_prices(dates,prices,[[19]])\n",
    "print(predicted_price)"
   ]
  },
  {
   "cell_type": "code",
   "execution_count": 15,
   "metadata": {},
   "outputs": [
    {
     "name": "stderr",
     "output_type": "stream",
     "text": [
      "C:\\ProgramData\\Anaconda3\\lib\\site-packages\\sklearn\\svm\\base.py:193: FutureWarning: The default value of gamma will change from 'auto' to 'scale' in version 0.22 to account better for unscaled features. Set gamma explicitly to 'auto' or 'scale' to avoid this warning.\n",
      "  \"avoid this warning.\", FutureWarning)\n"
     ]
    },
    {
     "data": {
      "image/png": "[encoded data removed]",
      "text/plain": [
       "<Figure size 432x288 with 1 Axes>"
      ]
     },
     "metadata": {
      "needs_background": "light"
     },
     "output_type": "display_data"
    },
    {
     "name": "stdout",
     "output_type": "stream",
     "text": [
      "(136.00012140585994, 144.33260530450605, 143.1312947435316, 144.9698437223851)\n"
     ]
    }
   ],
   "source": [
    "predicted_price =predict_prices(dates,prices,[[18]])\n",
    "print(predicted_price)"
   ]
  },
  {
   "cell_type": "code",
   "execution_count": 17,
   "metadata": {
    "scrolled": true
   },
   "outputs": [
    {
     "name": "stderr",
     "output_type": "stream",
     "text": [
      "C:\\ProgramData\\Anaconda3\\lib\\site-packages\\sklearn\\svm\\base.py:193: FutureWarning: The default value of gamma will change from 'auto' to 'scale' in version 0.22 to account better for unscaled features. Set gamma explicitly to 'auto' or 'scale' to avoid this warning.\n",
      "  \"avoid this warning.\", FutureWarning)\n"
     ]
    },
    {
     "data": {
      "image/png": "[encoded data removed]",
      "text/plain": [
       "<Figure size 432x288 with 1 Axes>"
      ]
     },
     "metadata": {
      "needs_background": "light"
     },
     "output_type": "display_data"
    },
    {
     "name": "stdout",
     "output_type": "stream",
     "text": [
      "(141.4174071915326, 145.4760830435738, 144.27438421677914, 146.1017343458709)\n"
     ]
    }
   ],
   "source": [
    "predicted_price =predict_prices(dates,prices,[[20]])\n",
    "print(predicted_price)"
   ]
  },
  {
   "cell_type": "code",
   "execution_count": null,
   "metadata": {},
   "outputs": [],
   "source": []
  }
 ],
 "metadata": {
  "kernelspec": {
   "display_name": "Python 3",
   "language": "python",
   "name": "python3"
  },
  "language_info": {
   "codemirror_mode": {
    "name": "ipython",
    "version": 3
   },
   "file_extension": ".py",
   "mimetype": "text/x-python",
   "name": "python",
   "nbconvert_exporter": "python",
   "pygments_lexer": "ipython3",
   "version": "3.7.3"
  }
 },
 "nbformat": 4,
 "nbformat_minor": 2
}
